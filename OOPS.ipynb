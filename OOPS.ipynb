{
  "nbformat": 4,
  "nbformat_minor": 0,
  "metadata": {
    "colab": {
      "provenance": [],
      "gpuType": "T4",
      "authorship_tag": "ABX9TyOrRfdaeSGIsCmoBuMhz5DA",
      "include_colab_link": true
    },
    "kernelspec": {
      "name": "python3",
      "display_name": "Python 3"
    },
    "language_info": {
      "name": "python"
    },
    "accelerator": "GPU"
  },
  "cells": [
    {
      "cell_type": "markdown",
      "metadata": {
        "id": "view-in-github",
        "colab_type": "text"
      },
      "source": [
        "<a href=\"https://colab.research.google.com/github/Eswari-21/OOPS/blob/main/OOPS.ipynb\" target=\"_parent\"><img src=\"https://colab.research.google.com/assets/colab-badge.svg\" alt=\"Open In Colab\"/></a>"
      ]
    },
    {
      "cell_type": "markdown",
      "source": [
        "# OOPS (object oriented programming)\n",
        "\n"
      ],
      "metadata": {
        "id": "XyS1rgPaEKxK"
      }
    },
    {
      "cell_type": "markdown",
      "source": [
        "### Class -> Instances example : car\n",
        "##### self attr to access the function\n",
        "##### object is animal and class is dog\n",
        "##### class method is used to access the instances is called self"
      ],
      "metadata": {
        "id": "rXXePK-sEW_a"
      }
    },
    {
      "cell_type": "code",
      "source": [],
      "metadata": {
        "id": "Rc-_OM-5s1nH"
      },
      "execution_count": null,
      "outputs": []
    },
    {
      "cell_type": "code",
      "source": [],
      "metadata": {
        "id": "Jc86erngs2Lz"
      },
      "execution_count": null,
      "outputs": []
    },
    {
      "cell_type": "code",
      "source": [
        "class dog:\n",
        "  def bark(self):\n",
        "    print(\"German Shepard\")\n",
        "    print(\"bow bow\")\n",
        "animal= dog()\n",
        "animal.bark()"
      ],
      "metadata": {
        "colab": {
          "base_uri": "https://localhost:8080/"
        },
        "id": "brTd2PefEKZy",
        "outputId": "67586f38-d5ad-46b8-ca2f-377b29320520"
      },
      "execution_count": null,
      "outputs": [
        {
          "output_type": "stream",
          "name": "stdout",
          "text": [
            "German Shepard\n",
            "bow bow\n"
          ]
        }
      ]
    },
    {
      "cell_type": "code",
      "source": [
        "class girl:\n",
        "  def set_name(self,name):\n",
        "    self.name=name\n",
        "  def get_name(self):\n",
        "    return self.name\n",
        "s = girl ()\n",
        "s.set_name(\"Eshu\")\n",
        "print(s.get_name() )"
      ],
      "metadata": {
        "colab": {
          "base_uri": "https://localhost:8080/"
        },
        "id": "2JpsyC3EEkUR",
        "outputId": "7bb17cfa-cffa-4053-bc09-d23b6e52de90"
      },
      "execution_count": null,
      "outputs": [
        {
          "output_type": "stream",
          "name": "stdout",
          "text": [
            "Eshu\n"
          ]
        }
      ]
    },
    {
      "cell_type": "markdown",
      "source": [
        "##### Arithmetic operation using a class object instance"
      ],
      "metadata": {
        "id": "KPeWKZEoEgA4"
      }
    },
    {
      "cell_type": "code",
      "source": [
        "class calc:\n",
        "  def add(self,a,b):\n",
        "    return a + b\n",
        "  def mul(self, a, b):\n",
        "    return a*b\n",
        "c=calc()\n",
        "print(c.add(5,6))\n",
        "print(c.mul(3,10))"
      ],
      "metadata": {
        "colab": {
          "base_uri": "https://localhost:8080/"
        },
        "id": "fj169gH-EpGB",
        "outputId": "cc3e1005-b2ae-4566-8be7-47de3877c586"
      },
      "execution_count": null,
      "outputs": [
        {
          "output_type": "stream",
          "name": "stdout",
          "text": [
            "11\n",
            "30\n"
          ]
        }
      ]
    },
    {
      "cell_type": "code",
      "source": [
        "class calc:\n",
        "  def set_values(self,a,b):\n",
        "    self.a=a\n",
        "    self.b=b\n",
        "  def add(self):\n",
        "    return self.a+self.b\n",
        "  def mul(self):\n",
        "    return self.a*self.b\n",
        "  def sub(self):\n",
        "    return self.a-self.b\n",
        "  def div(self):\n",
        "    return self.a/self.b\n",
        "c=calc()\n",
        "c.set_values(5,6)\n",
        "print(c.add())\n",
        "print(c.mul())\n",
        "print(c.sub())\n",
        "print(c.div())"
      ],
      "metadata": {
        "colab": {
          "base_uri": "https://localhost:8080/"
        },
        "id": "av_BB7H3EsoJ",
        "outputId": "8a7e8dd2-2974-4880-8599-97c443d090e1"
      },
      "execution_count": null,
      "outputs": [
        {
          "output_type": "stream",
          "name": "stdout",
          "text": [
            "11\n",
            "30\n",
            "-1\n",
            "0.8333333333333334\n"
          ]
        }
      ]
    },
    {
      "cell_type": "markdown",
      "source": [
        "##### code for calculating the area of a square by creating a class square and defining the area and perimeter functions and return the both values to the object  and  side = 4\n"
      ],
      "metadata": {
        "id": "56SVRWl4E8S5"
      }
    },
    {
      "cell_type": "code",
      "source": [
        "class square:\n",
        "  def set_values(self, side):\n",
        "    self.side=side\n",
        "  def area(self):\n",
        "    return self.side**2\n",
        "  def perimeter(self):\n",
        "    return 4*self.side\n",
        "s=square()\n",
        "s.set_values(4)\n",
        "print(\"Area:\",s.area())\n",
        "print(\"perimeter:\",s.perimeter())"
      ],
      "metadata": {
        "colab": {
          "base_uri": "https://localhost:8080/"
        },
        "id": "neggFrvVE6-6",
        "outputId": "fb55eb81-7e3f-4f3f-8235-f3c430e16d04"
      },
      "execution_count": null,
      "outputs": [
        {
          "output_type": "stream",
          "name": "stdout",
          "text": [
            "Area: 16\n",
            "perimeter: 16\n"
          ]
        }
      ]
    },
    {
      "cell_type": "markdown",
      "source": [
        "##### Find the Hypotenuse of pythagorean Therom\n",
        "\n"
      ],
      "metadata": {
        "id": "JmeXpgnyHEwa"
      }
    },
    {
      "cell_type": "code",
      "source": [
        "import math\n",
        "class pythagorean:\n",
        "  def set_values(self,a, b):\n",
        "    self.a=a\n",
        "    self.b=b\n",
        "  def hypotenuse(self):\n",
        "    return math.sqrt(self.a**2+self.b**2)\n",
        "p = pythagorean()\n",
        "p.set_values(5,5)\n",
        "print(\"hypotenuse\",p.hypotenuse())"
      ],
      "metadata": {
        "id": "UKEGmKO6Htyy",
        "colab": {
          "base_uri": "https://localhost:8080/"
        },
        "outputId": "649a1281-0cf5-4cfa-eff6-62f785309ee4"
      },
      "execution_count": null,
      "outputs": [
        {
          "output_type": "stream",
          "name": "stdout",
          "text": [
            "hypotenuse 7.0710678118654755\n"
          ]
        }
      ]
    },
    {
      "cell_type": "markdown",
      "source": [
        "## basic constructor usage __init__\n",
        "#### automatically runs a method , where a new object is created\n",
        "#### DISPLAY ----> data"
      ],
      "metadata": {
        "id": "_r3Ed6Lzk0jb"
      }
    },
    {
      "cell_type": "code",
      "source": [
        "class student:\n",
        "  def __init__(self, name,num):\n",
        "    self.name= name\n",
        "    self.num= num\n",
        "  def display(self):\n",
        "    print(f\"Name :{self.name},Roll num :{self.num}\")\n",
        "s1=student(\"eshu\",26)\n",
        "s2=student(\"sai\",59)\n",
        "s1.display()\n",
        "s2.display()"
      ],
      "metadata": {
        "colab": {
          "base_uri": "https://localhost:8080/"
        },
        "id": "t3aW0xYzegE8",
        "outputId": "b551d3bd-37a7-4022-a7d4-dc46b9059396"
      },
      "execution_count": null,
      "outputs": [
        {
          "output_type": "stream",
          "name": "stdout",
          "text": [
            "Name :eshu,Roll num :26\n",
            "Name :sai,Roll num :59\n"
          ]
        }
      ]
    },
    {
      "cell_type": "markdown",
      "source": [
        "### code for class method to call a function , which is defined in global namespace"
      ],
      "metadata": {
        "id": "nUFnRrnf0Gyy"
      }
    },
    {
      "cell_type": "code",
      "source": [
        "def globe (x):\n",
        "  return x*10\n",
        "class abc():\n",
        "  def __init__(self, var):\n",
        "    self.var=var\n",
        "  def display(self):\n",
        "    print(\"variable:\",self.var)\n",
        "  def modify(self):\n",
        "    self.var=globe(self.var)\n",
        "obj = abc(26)\n",
        "obj.display()\n",
        "obj.modify()\n",
        "obj.display()"
      ],
      "metadata": {
        "colab": {
          "base_uri": "https://localhost:8080/"
        },
        "id": "ToujAchrz6K6",
        "outputId": "e5600dba-6ed8-4b54-e865-25fb09c67492"
      },
      "execution_count": null,
      "outputs": [
        {
          "output_type": "stream",
          "name": "stdout",
          "text": [
            "variable: 26\n",
            "variable: 260\n"
          ]
        }
      ]
    },
    {
      "cell_type": "markdown",
      "source": [
        "### program that uses class as student to store the name and marks of the student, use a list to store the marks of 3 subjects\n",
        "### Constraints:\n",
        "#### 1. Take class as student\n",
        "#### 2. create a constructor for the student name\n",
        "#### 3. Create afunction for marks, to be entered manually with in that class function and add the marks to the list\n",
        "#### 4.Display then student name and the marks he/she got\n",
        "#### 5. pass the ojects attributes of two students names\n",
        "#### tc:\n",
        "#### obj1:\"Eshu\"\n",
        "#### obj2: \"rani\"\n",
        "### Output : Eshu got[88,88,90] , rani got[77,78,90]\n"
      ],
      "metadata": {
        "id": "R0mzpsKT7xfC"
      }
    },
    {
      "cell_type": "code",
      "source": [
        "from typing_extensions import NamedTuple\n",
        "class student:\n",
        "  def __init__(self,name,marks):\n",
        "    self.name=name\n",
        "    self.marks=marks\n",
        "  def display(self):\n",
        "    print(f\"{self.name} got {self.marks}\")\n",
        "s1=student(\"eshu\",[88,88,90])\n",
        "s2=student(\"rani\",[77,78,90])\n",
        "s1.display()\n",
        "s2.display()\n",
        "\n",
        "# OR\n",
        "\n",
        "class student:\n",
        "  def __init__(self,name):\n",
        "    self.name=name\n",
        "    self.marks=[]\n",
        "  def entermarks(self):\n",
        "    for i in range(3):\n",
        "      m=int(input(\"enter marks of %s in student %d :\" %(self.name, i+1)))\n",
        "      self.marks.append(m)\n",
        "  def display(self):\n",
        "    print(self.name, \"got\" , self.marks)\n",
        "s1=student(\"eshu\")\n",
        "s1.entermarks()\n",
        "s2=student(\"rani\")\n",
        "s2.entermarks()\n",
        "s1.display()\n",
        "s2.display()\n"
      ],
      "metadata": {
        "colab": {
          "base_uri": "https://localhost:8080/"
        },
        "id": "CZbp6BXa3Tdy",
        "outputId": "d2773312-d9e6-4374-8e77-6fd6a5c96846"
      },
      "execution_count": null,
      "outputs": [
        {
          "output_type": "stream",
          "name": "stdout",
          "text": [
            "eshu got [88, 88, 90]\n",
            "rani got [77, 78, 90]\n",
            "enter marks of eshu in student 1 :80\n",
            "enter marks of eshu in student 2 :90\n",
            "enter marks of eshu in student 3 :90\n",
            "enter marks of rani in student 1 :89\n",
            "enter marks of rani in student 2 :89\n",
            "enter marks of rani in student 3 :90\n",
            "eshu got [80, 90, 90]\n",
            "rani got [89, 89, 90]\n"
          ]
        }
      ]
    },
    {
      "cell_type": "markdown",
      "source": [
        "### Delete method __del__()"
      ],
      "metadata": {
        "id": "tUsJeGuT-u7U"
      }
    },
    {
      "cell_type": "code",
      "source": [
        "class abc():\n",
        "  classvar = 0\n",
        "  def __init__(self,var):\n",
        "    abc.classvar +=1\n",
        "    self.var=var\n",
        "    print(\"the object value:\", var)\n",
        "    print(\"the class var value:\", abc.classvar)\n",
        "obj1 = abc(10)\n",
        "obj1 = abc(20)\n",
        "obj1 = abc(30)"
      ],
      "metadata": {
        "id": "5H-JH4v-_Jep",
        "colab": {
          "base_uri": "https://localhost:8080/"
        },
        "outputId": "3b1e8a52-ebf2-4532-9593-2e203ec2ca0c"
      },
      "execution_count": null,
      "outputs": [
        {
          "output_type": "stream",
          "name": "stdout",
          "text": [
            "the object value: 10\n",
            "the class var value: 1\n",
            "the object value: 20\n",
            "the class var value: 2\n",
            "the object value: 30\n",
            "the class var value: 3\n"
          ]
        }
      ]
    },
    {
      "cell_type": "code",
      "source": [
        "class abc():\n",
        "  classvar = 0\n",
        "  def __init__(self,var):\n",
        "    abc.classvar +=1\n",
        "    self.var=var\n",
        "    print(\"the object value:\", var)\n",
        "    print(\"the class var value:\", abc.classvar)\n",
        "  def __del__(self):\n",
        "    abc.classvar -=1\n",
        "    print(\"object with value %d is going outof scope \" %self.var)\n",
        "obj1 = abc(10)\n",
        "obj2 = abc(20)\n",
        "obj3 = abc(30)\n",
        "del obj1\n",
        "del obj2\n",
        "\n"
      ],
      "metadata": {
        "colab": {
          "base_uri": "https://localhost:8080/"
        },
        "id": "j8d-G_K4AeNc",
        "outputId": "c0cd7971-6683-4000-9aaf-0576f591ccaf"
      },
      "execution_count": null,
      "outputs": [
        {
          "output_type": "stream",
          "name": "stdout",
          "text": [
            "the object value: 10\n",
            "the class var value: 1\n",
            "the object value: 20\n",
            "the class var value: 2\n",
            "the object value: 30\n",
            "the class var value: 3\n",
            "object with value 10 is going outof scope \n",
            "object with value 20 is going outof scope \n"
          ]
        }
      ]
    },
    {
      "cell_type": "markdown",
      "source": [
        "### Special Methods\n",
        "##### __ rper__()\n",
        "##### __ cmp__()\n",
        "##### __ call__()\n",
        "##### __ hash__()\n",
        "### operational\n",
        "##### __ gt__()\n",
        "##### __ ge__()\n",
        "##### __ lt__()\n",
        "##### __ le__()\n",
        "##### __ eq__()\n",
        "##### __ ne__()\n",
        "##### __ iter__()\n",
        "##### __ getitem__()\n",
        "##### __ setitem__()\n"
      ],
      "metadata": {
        "id": "6qHLqLd1DB8N"
      }
    },
    {
      "cell_type": "code",
      "source": [
        "class num:\n",
        "  def __init__(self,mylist):\n",
        "    self.mylist = mylist\n",
        "  def __getitem__(self,index):\n",
        "    return self.mylist[index]\n",
        "  def __setitem__(self,index,val):\n",
        "    self.mylist[index]=val\n",
        "numlist = num([1,2,3,4,5,6,7,8,9])\n",
        "print(\"Before Modify\")\n",
        "print(numlist.mylist)\n",
        "numlist[2]=10\n",
        "print(\"After Modify\")\n",
        "print(numlist.mylist)"
      ],
      "metadata": {
        "colab": {
          "base_uri": "https://localhost:8080/"
        },
        "id": "BKxv8JZyElOl",
        "outputId": "3496d2d5-8c28-4f4d-e3e9-54982b795dfb"
      },
      "execution_count": null,
      "outputs": [
        {
          "output_type": "stream",
          "name": "stdout",
          "text": [
            "Before Modify\n",
            "[1, 2, 3, 4, 5, 6, 7, 8, 9]\n",
            "After Modify\n",
            "[1, 2, 10, 4, 5, 6, 7, 8, 9]\n"
          ]
        }
      ]
    },
    {
      "cell_type": "markdown",
      "source": [
        "### Public variable and private variables\n"
      ],
      "metadata": {
        "id": "tdQg7iNqH6yU"
      }
    },
    {
      "cell_type": "code",
      "source": [
        "class abc():\n",
        "  def __init__(self,var1,var2):\n",
        "    self.var1 = var1  #public var\n",
        "    self.__var2 = var2 #private var\n",
        "  def display(self):\n",
        "    print(\"Public From Class Method \",self.var1 )\n",
        "    print(\"Private From Class Method \", self.__var2)\n",
        "obj = abc(10,100)\n",
        "obj.display()\n",
        "print(\"Public From main module : \", obj.var1)\n",
        "print(\"private from main moduke : \",obj._abc__var2)\n",
        "print(\"private from main moduke : \",obj.var2) # cannot be called by a global instance"
      ],
      "metadata": {
        "colab": {
          "base_uri": "https://localhost:8080/",
          "height": 245
        },
        "id": "K-Sn-Bh-IQ8z",
        "outputId": "d7baf5c8-46cc-4a71-8cb4-6da22196bde3"
      },
      "execution_count": null,
      "outputs": [
        {
          "output_type": "stream",
          "name": "stdout",
          "text": [
            "Public From Class Method  10\n",
            "Private From Class Method  100\n",
            "Public From main module :  10\n",
            "private from main moduke :  100\n"
          ]
        },
        {
          "output_type": "error",
          "ename": "AttributeError",
          "evalue": "'abc' object has no attribute 'var2'",
          "traceback": [
            "\u001b[0;31m---------------------------------------------------------------------------\u001b[0m",
            "\u001b[0;31mAttributeError\u001b[0m                            Traceback (most recent call last)",
            "\u001b[0;32m<ipython-input-3-1887cee71c07>\u001b[0m in \u001b[0;36m<cell line: 0>\u001b[0;34m()\u001b[0m\n\u001b[1;32m     10\u001b[0m \u001b[0mprint\u001b[0m\u001b[0;34m(\u001b[0m\u001b[0;34m\"Public From main module : \"\u001b[0m\u001b[0;34m,\u001b[0m \u001b[0mobj\u001b[0m\u001b[0;34m.\u001b[0m\u001b[0mvar1\u001b[0m\u001b[0;34m)\u001b[0m\u001b[0;34m\u001b[0m\u001b[0;34m\u001b[0m\u001b[0m\n\u001b[1;32m     11\u001b[0m \u001b[0mprint\u001b[0m\u001b[0;34m(\u001b[0m\u001b[0;34m\"private from main moduke : \"\u001b[0m\u001b[0;34m,\u001b[0m\u001b[0mobj\u001b[0m\u001b[0;34m.\u001b[0m\u001b[0m_abc__var2\u001b[0m\u001b[0;34m)\u001b[0m\u001b[0;34m\u001b[0m\u001b[0;34m\u001b[0m\u001b[0m\n\u001b[0;32m---> 12\u001b[0;31m \u001b[0mprint\u001b[0m\u001b[0;34m(\u001b[0m\u001b[0;34m\"private from main moduke : \"\u001b[0m\u001b[0;34m,\u001b[0m\u001b[0mobj\u001b[0m\u001b[0;34m.\u001b[0m\u001b[0mvar2\u001b[0m\u001b[0;34m)\u001b[0m \u001b[0;31m# cannot be called by a global instance\u001b[0m\u001b[0;34m\u001b[0m\u001b[0;34m\u001b[0m\u001b[0m\n\u001b[0m",
            "\u001b[0;31mAttributeError\u001b[0m: 'abc' object has no attribute 'var2'"
          ]
        }
      ]
    },
    {
      "cell_type": "markdown",
      "source": [
        "#### Built-in class attributes\n",
        "##### (1)  . __ dict __ :\n",
        "##### (2) . __ doc __ :\n",
        "##### (3) .  __ name __ :\n",
        "##### (4) . __ module __ :\n",
        "##### (5) . __ bases __ :"
      ],
      "metadata": {
        "id": "Ls_F2qKfLGqc"
      }
    },
    {
      "cell_type": "code",
      "source": [
        "class abc():\n",
        "  def __init__(self,v1,v2):\n",
        "    self.v1=v1\n",
        "    self.v2=v2\n",
        "  def display(self):\n",
        "    print(\"var1 :\", self.v1)\n",
        "    print(\"var2 :\", self.v2)\n",
        "obj = abc(11,1.234)\n",
        "print(\"object .__dict__ = \", obj.__dict__)\n",
        "print(\"object .__doc__ = \", obj.__doc__)\n",
        "print(\"Class .__name__ =\" , abc.__name__)\n",
        "print(\"object .__module = \", obj.__module__)\n",
        "print(\"Class .__bases =\" , abc.__bases__)"
      ],
      "metadata": {
        "colab": {
          "base_uri": "https://localhost:8080/"
        },
        "id": "vmSZaK5cLrVc",
        "outputId": "6dda110f-0639-4c12-a481-72cf0ccfa54f"
      },
      "execution_count": null,
      "outputs": [
        {
          "output_type": "stream",
          "name": "stdout",
          "text": [
            "object .__dict__ =  {'v1': 11, 'v2': 1.234}\n",
            "object .__doc__ =  None\n",
            "Class .__name__ = abc\n",
            "object .__module =  __main__\n",
            "Class .__bases = (<class 'object'>,)\n"
          ]
        }
      ]
    },
    {
      "cell_type": "markdown",
      "source": [
        "## Inheritance\n"
      ],
      "metadata": {
        "id": "zKdBnrz2PeuE"
      }
    },
    {
      "cell_type": "markdown",
      "source": [
        "#### 1.Simple\n",
        "#### 2.Multiple\n",
        "#### 3.Multi-level\n",
        "#### 4.Hybrid\n",
        "#### 5.Heritance\n",
        "#### 6.Multipath (or) Diamond approach\n",
        "#### 7.Meta\n",
        "#### 8. Down Top"
      ],
      "metadata": {
        "id": "f6TR-oUYXOLs"
      }
    },
    {
      "cell_type": "markdown",
      "source": [
        "#### Inheritance multiple\n",
        "##### code to demo the call from suoer class through constructor of base class\n"
      ],
      "metadata": {
        "id": "uguyfl6rOwBM"
      }
    },
    {
      "cell_type": "code",
      "source": [
        "class base1(object):\n",
        "  def __init__(self):\n",
        "    print(\" BASE CLASS 1\")\n",
        "    super(base1, self).__init__()\n",
        "class base2(object):\n",
        "   def __init__(self):\n",
        "    print(\" BASE CLASS 2\")\n",
        "    super(base2, self).__init__()\n",
        "class derived(base1,base2):\n",
        "  def __init__(self):\n",
        "     super(derived, self).__init__()\n",
        "     print(\" DERIVED CLASS\")\n",
        "D = derived()"
      ],
      "metadata": {
        "colab": {
          "base_uri": "https://localhost:8080/"
        },
        "id": "7-EpFWzvSU-r",
        "outputId": "d1fc9edd-a2c1-40ac-923d-c5513b160efa"
      },
      "execution_count": null,
      "outputs": [
        {
          "output_type": "stream",
          "name": "stdout",
          "text": [
            " BASE CLASS 1\n",
            " BASE CLASS 2\n",
            " DERIVED CLASS\n"
          ]
        }
      ]
    },
    {
      "cell_type": "markdown",
      "source": [
        "### Multiple inheritance using in Calc\n"
      ],
      "metadata": {
        "id": "20m7C23BeZiE"
      }
    },
    {
      "cell_type": "code",
      "source": [
        "class addition:\n",
        "  def add(self,a,b):\n",
        "    return a+b\n",
        "class subtract:\n",
        "  def sub(self,a,b):\n",
        "    return a-b\n",
        "class calc(addition,subtract):\n",
        "  def mul(self,a,b):\n",
        "    return a*b\n",
        "c = calc()\n",
        "num1 = int(input(\"enter the value of a: \"))\n",
        "num2 = int(input(\"entet the value of b: \"))\n",
        "print(\"Addition:\",c.add(num1,num2))\n",
        "print(\"Subtract:\",c.sub(num1,num2))\n",
        "print(\"Multiplication:\",c.mul(num1,num2))"
      ],
      "metadata": {
        "colab": {
          "base_uri": "https://localhost:8080/"
        },
        "id": "pmiyldeCeiRz",
        "outputId": "73f20fa7-e658-48e4-d4e8-e1853edf8ab4"
      },
      "execution_count": null,
      "outputs": [
        {
          "output_type": "stream",
          "name": "stdout",
          "text": [
            "enter the value of a: 5\n",
            "entet the value of b: 5\n",
            "Addition: 10\n",
            "Subtract: 0\n",
            "Multiplication: 25\n"
          ]
        }
      ]
    },
    {
      "cell_type": "markdown",
      "source": [
        "## multi-level inheritance\n"
      ],
      "metadata": {
        "id": "BB3ImPOk-7B-"
      }
    },
    {
      "cell_type": "code",
      "source": [
        "class pet:\n",
        "  def sound(self):\n",
        "    print(\"Animal sound\")\n",
        "class dog(pet):\n",
        "  def bark(self):\n",
        "    print(\"Dog barks\")\n",
        "class puppy(dog):\n",
        "  def weep(self):\n",
        "    print(\"Puppy weeps\")\n",
        "puppy = puppy()\n",
        "puppy.sound()\n",
        "puppy.bark()\n",
        "puppy.weep()\n"
      ],
      "metadata": {
        "colab": {
          "base_uri": "https://localhost:8080/"
        },
        "id": "U3bHkhMY-VE2",
        "outputId": "660dd935-197d-4c9d-91e7-1ca23b1cc8b4"
      },
      "execution_count": null,
      "outputs": [
        {
          "output_type": "stream",
          "name": "stdout",
          "text": [
            "Animal sound\n",
            "Dog barks\n",
            "Puppy weeps\n"
          ]
        }
      ]
    },
    {
      "cell_type": "markdown",
      "source": [
        "## code for math opeartions using base class, with 1st and 2nd derived class respectively\n",
        "### create an object where derived will be executed and perform multi operations\n",
        "\n",
        "\n"
      ],
      "metadata": {
        "id": "CUtcMljIBOPV"
      }
    },
    {
      "cell_type": "code",
      "source": [
        "class numbers:\n",
        "  def __init__(self,a,b):\n",
        "    self.a =a\n",
        "    self.b= b\n",
        "class basicops(numbers):\n",
        "  def add(self):\n",
        "    return self.a+self.b\n",
        "  def sub(self):\n",
        "    return self.a-self.b\n",
        "class advops(basicops):\n",
        "  def mul(self):\n",
        "    return self.a*self.b\n",
        "  def div(self):\n",
        "    return self.a/self.b\n",
        "x = int(input(\"enter the value of x:\"))\n",
        "y = int(input(\"enter the value of y:\"))\n",
        "calc = advops(x,y)\n",
        "print(\"Addition:\",calc.add())\n",
        "print(\"Subtraction:\",calc.sub())\n",
        "print(\"Multiplication:\",calc.mul())\n",
        "print(\"Division:\",calc.div())"
      ],
      "metadata": {
        "colab": {
          "base_uri": "https://localhost:8080/"
        },
        "id": "fEs2px-OBbvV",
        "outputId": "f274341a-1d55-43af-9e26-f9e7b31b40d5"
      },
      "execution_count": null,
      "outputs": [
        {
          "output_type": "stream",
          "name": "stdout",
          "text": [
            "enter the value of x:5\n",
            "enter the value of y:6\n",
            "Addition: 11\n",
            "Subtraction: -1\n",
            "Multiplication: 30\n",
            "Division: 0.8333333333333334\n"
          ]
        }
      ]
    },
    {
      "cell_type": "markdown",
      "source": [
        "## code for student grading system, where the student base class has to be derived by marks and marks with grades in a multi-level inheritance .\n",
        "### calculate the grade to be allocated to be student with marks A,B,C,D  with >= 90, >= 75, >=60 or less than 60 respectively.\n",
        "#### student : Henry\n",
        "#### marks : [85,90,78,92]\n",
        "#### calculate and display marks, avg, grade of Henry\n"
      ],
      "metadata": {
        "id": "I49k0VwCEcCW"
      }
    },
    {
      "cell_type": "code",
      "source": [
        "\n",
        "class student:\n",
        "  def __init__(self,name):\n",
        "    self.name= name\n",
        "class marks(student):\n",
        "   def __init__(self,name,marks):\n",
        "    super().__init__(name)\n",
        "    self.marks = marks\n",
        "   def total_marks(self):\n",
        "    return sum(self.marks)\n",
        "class grade(marks):\n",
        "  def avg(self):\n",
        "    return self.total_marks()/len(self.marks)\n",
        "  def cal_grade(self):\n",
        "    avg = self.avg()\n",
        "    if avg >=90:\n",
        "      return \"A\"\n",
        "    elif avg>=75:\n",
        "      return \"B\"\n",
        "    elif avg >=60:\n",
        "      return \"C\"\n",
        "    else:\n",
        "      return \"D\"\n",
        "\n",
        "name = input(\"enter the student name:\")\n",
        "subjects = int(input(\"enter the number of students\"))\n",
        "marks = []\n",
        "for i in range(subjects):\n",
        "  mark = float(input(\"enter the marks\"))\n",
        "  # The following line is changed to append the mark instead of the list itself\n",
        "  marks.append(mark) #This was previously marks.append(marks)\n",
        "student = grade(name,marks)\n",
        "#student = grade(\"Henry\",[85,90,78,92])\n",
        "print(\"Student name:\",student.name)\n",
        "print(\"Total_marks:\",student.total_marks())\n",
        "print(\"Average:\",student.avg())\n",
        "print(\"cal_grade:\",student.cal_grade())\n"
      ],
      "metadata": {
        "colab": {
          "base_uri": "https://localhost:8080/"
        },
        "id": "MksiI6AKLuI7",
        "outputId": "e58551eb-e692-4cfc-a83d-e46eb3ea514a"
      },
      "execution_count": null,
      "outputs": [
        {
          "output_type": "stream",
          "name": "stdout",
          "text": [
            "enter the student name:eshu\n",
            "enter the number of students3\n",
            "enter the marks97\n",
            "enter the marks78\n",
            "enter the marks89\n",
            "Student name: eshu\n",
            "Total_marks: 264.0\n",
            "Average: 88.0\n",
            "cal_grade: B\n"
          ]
        }
      ]
    },
    {
      "cell_type": "markdown",
      "source": [
        "## hierarchical inheritance\n"
      ],
      "metadata": {
        "id": "Muue4uHQMnuE"
      }
    },
    {
      "cell_type": "code",
      "source": [
        "class pet:\n",
        "  def __init__(self, name):\n",
        "    self.name = name\n",
        "  def sound(self):\n",
        "    print(f\"{self.name} makes a sound\")\n",
        "class dog(pet):\n",
        "  def sound(self):\n",
        "    print(f\"{self.name} barks\")\n",
        "class cat(pet):\n",
        "  def sound(self):\n",
        "    print(f\"{self.name} meows\")\n",
        "d = dog(\"Milo\")\n",
        "c = cat(\"Kitty\")\n",
        "d.sound()\n",
        "c.sound()"
      ],
      "metadata": {
        "colab": {
          "base_uri": "https://localhost:8080/"
        },
        "id": "21yDp1fVMnZL",
        "outputId": "1714c378-37a0-42f2-a358-7ea1c486564b"
      },
      "execution_count": null,
      "outputs": [
        {
          "output_type": "stream",
          "name": "stdout",
          "text": [
            "Milo barks\n",
            "Kitty meows\n"
          ]
        }
      ]
    },
    {
      "cell_type": "markdown",
      "source": [
        "## Hierarchical geometry operations of different shapes area values of all circle, rectangle, triangle derived classes\n"
      ],
      "metadata": {
        "id": "_2f2QKCzQ7L8"
      }
    },
    {
      "cell_type": "code",
      "source": [
        "import math\n",
        "class shape:\n",
        "  def __init__(self, d1 , d2 =0):\n",
        "    self.d1 = d1\n",
        "    self.d2 = d2\n",
        "class rectangle(shape):\n",
        "  def area(self):\n",
        "    return self.d1*self.d2\n",
        "class circle(shape):\n",
        "  def area(self):\n",
        "    return math.pi*self.d1**2\n",
        "class triangle(shape):\n",
        "  def area(self):\n",
        "    return 0.5 * self.d1 * self.d2\n",
        "rect = rectangle(10,5)\n",
        "cir = circle(7)\n",
        "tri = triangle(4,6)\n",
        "print(\"Area of rectangle:\",rect.area())\n",
        "print(\"Area circle :\",cir.area())\n",
        "print(\"Area of triangle:\",tri.area())"
      ],
      "metadata": {
        "colab": {
          "base_uri": "https://localhost:8080/"
        },
        "id": "B8xUP13pRW8y",
        "outputId": "683d6827-9e54-4784-98f0-9a53bd63ce46"
      },
      "execution_count": null,
      "outputs": [
        {
          "output_type": "stream",
          "name": "stdout",
          "text": [
            "Area of rectangle: 50\n",
            "Area circle : 153.93804002589985\n",
            "Area of triangle: 12.0\n"
          ]
        }
      ]
    },
    {
      "cell_type": "markdown",
      "source": [
        "## Abstraction of base class for evaluating the area of square, rectangle, triangle\n",
        "\n",
        "\n"
      ],
      "metadata": {
        "id": "QicbxsQDbF5T"
      }
    },
    {
      "cell_type": "code",
      "source": [
        "from abc import ABC, abstractmethod\n",
        "from math import pi\n",
        "class shape(ABC):\n",
        "  def __init__(self,name):\n",
        "    self.name = name\n",
        "  @abstractmethod\n",
        "  def area(self):\n",
        "    pass\n",
        "class rectangle(shape):\n",
        "  def __init__(self,l,b):\n",
        "    super().__init__(\"rectangle\")\n",
        "    self.l = l\n",
        "    self.b = b\n",
        "  def area (self):\n",
        "    return self.l * self.b\n",
        "class circle(shape):\n",
        "  def __init__(self,r):\n",
        "    super().__init__(\"circle\")\n",
        "    self.r = r\n",
        "  def area(self):\n",
        "    return pi * self.r*self.r\n",
        "class triangle(shape):\n",
        "  def __init__(self,b,h):\n",
        "    super().__init__(\"triangle\")\n",
        "    self.b = b\n",
        "    self.h = h\n",
        "  def area(self):\n",
        "    return 0,5 * self.b *self.h\n",
        "r = rectangle(10,15)\n",
        "c = circle(9)\n",
        "t = triangle(6,9)\n",
        "print(\"area of rectangle:\",r.area())\n",
        "print(\"area of circle:\",c.area())\n",
        "print(\"area of triangle\",t.area())\n",
        "\n"
      ],
      "metadata": {
        "colab": {
          "base_uri": "https://localhost:8080/"
        },
        "id": "q04EEanHcYs4",
        "outputId": "0aec362b-4790-47af-af17-645c5ca7cd6a"
      },
      "execution_count": null,
      "outputs": [
        {
          "output_type": "stream",
          "name": "stdout",
          "text": [
            "area of rectangle: 150\n",
            "area of circle: 254.46900494077323\n",
            "area of triangle (0, 270)\n"
          ]
        }
      ]
    },
    {
      "cell_type": "markdown",
      "source": [
        "## Encapsulation\n",
        "####  Basic Encapsulation with attributes , private attributes\n",
        "#### 1. __var , __x , __a\n",
        "#### self.__a to access the private variable\n",
        "#### get means the empty\n",
        "#### set means the assign the values\n"
      ],
      "metadata": {
        "id": "sIFDsBntnmzB"
      }
    },
    {
      "cell_type": "code",
      "source": [
        "class car:\n",
        "  def __init__(self,brand,speed):\n",
        "    self.brand = brand\n",
        "    self.__speed = speed\n",
        "\n",
        "  # Define get_speed as a regular method of the class\n",
        "  def get_speed(self):\n",
        "    return self.__speed\n",
        "\n",
        "  # Define set_speed as a regular method of the class\n",
        "  def set_speed(self,speed):\n",
        "    if speed>=0:\n",
        "      self.__speed = speed\n",
        "    else :\n",
        "      print(\"Car is not moving\")\n",
        "\n",
        "c = car(\"BMW\",160)\n",
        "print(c.brand)\n",
        "print(c.get_speed())\n",
        "c.set_speed(200)\n",
        "print(c.get_speed())\n",
        "c.set_speed(0)"
      ],
      "metadata": {
        "colab": {
          "base_uri": "https://localhost:8080/"
        },
        "id": "-idbcgDzrYax",
        "outputId": "91baeede-e3d1-4037-defb-a98dae042d50"
      },
      "execution_count": null,
      "outputs": [
        {
          "output_type": "stream",
          "name": "stdout",
          "text": [
            "BMW\n",
            "160\n",
            "200\n"
          ]
        }
      ]
    },
    {
      "cell_type": "markdown",
      "source": [
        "### Protected attributes"
      ],
      "metadata": {
        "id": "pKHT8v3orcRQ"
      }
    },
    {
      "cell_type": "code",
      "source": [
        "class student:\n",
        "  def __init__(self, name, age):\n",
        "    self._name = name\n",
        "    self._age = age\n",
        "  def display(self):\n",
        "    print(f\"Name : {self._name}, Age : {self._age}\")\n",
        "s = student(\"Eshika\",20)\n",
        "s.display()\n",
        "print(s._name)"
      ],
      "metadata": {
        "colab": {
          "base_uri": "https://localhost:8080/"
        },
        "id": "DCy7Sz0eriS5",
        "outputId": "17d94418-05d2-486a-e7a1-e662aa661312"
      },
      "execution_count": null,
      "outputs": [
        {
          "output_type": "stream",
          "name": "stdout",
          "text": [
            "Name : Eshika, Age : 20\n",
            "Eshika\n"
          ]
        }
      ]
    },
    {
      "cell_type": "markdown",
      "source": [
        "## private methods\n"
      ],
      "metadata": {
        "id": "ANkKMRj2tlYB"
      }
    },
    {
      "cell_type": "code",
      "source": [
        "class emp:\n",
        "  def __init__(self, name ,sal):\n",
        "    self.name = name\n",
        "    self.__sal = sal\n",
        "  def __bonus(self):\n",
        "    return self .__sal*0.4\n",
        "  def pack(self):\n",
        "    return self.__sal + self.__bonus()\n",
        "e = emp(\"Eshika\", 210000)\n",
        "print(e.pack())"
      ],
      "metadata": {
        "id": "yGwWOEbiro3q",
        "colab": {
          "base_uri": "https://localhost:8080/"
        },
        "outputId": "4d1f2070-aac0-44f4-89d0-dd5e30767eec"
      },
      "execution_count": null,
      "outputs": [
        {
          "output_type": "stream",
          "name": "stdout",
          "text": [
            "294000.0\n"
          ]
        }
      ]
    },
    {
      "cell_type": "markdown",
      "source": [
        "### calculate the average of 4 subjects of a student by taking protected attributes , pass name and four subjects marks to class student . find gpa and assign the avg to gpa\n",
        "### name = \" XXXXXX \"\n",
        "### marks = [99,79,84,95]\n",
        "### output = average of grades = 90.0\n",
        "### output = name xxxxxx . gpa = 90.00\n"
      ],
      "metadata": {
        "id": "y0F5hhpFw7BR"
      }
    },
    {
      "cell_type": "code",
      "source": [
        "class student:\n",
        "  def __init__(self,name, marks):\n",
        "    self.name = name\n",
        "    self._marks = marks\n",
        "  def avg(self):\n",
        "    return sum(self._marks)/len(self._marks)\n",
        "s = student(\"eshu\",[99,79,84,95])\n",
        "print(f\" avg of grade = {s.avg()}\")\n",
        "# Call the avg() method on the s object to get the average value\n",
        "print(f\" Name: {s.name}, GPA :{s.avg():.2f}\")"
      ],
      "metadata": {
        "colab": {
          "base_uri": "https://localhost:8080/"
        },
        "id": "kA7AsvL42Fgt",
        "outputId": "449b9760-f966-46c9-da14-a65f9e232604"
      },
      "execution_count": null,
      "outputs": [
        {
          "output_type": "stream",
          "name": "stdout",
          "text": [
            " avg of grade = 89.25\n",
            " Name: eshu, GPA :89.25\n"
          ]
        }
      ]
    },
    {
      "cell_type": "markdown",
      "source": [
        "# Errors and Exceptions\n"
      ],
      "metadata": {
        "id": "HZZHbzxi4Tjz"
      }
    },
    {
      "cell_type": "markdown",
      "source": [
        "## bulit-in Exception\n",
        "### 1. Exception   \n",
        "###### A general signal that something went wrong while your code was running.\n",
        "### 2. StandardError (its not supported that system error and iteration error)\n",
        "###### An older, general signal for errors. In newer Python, Exception is used instead.\n",
        "### 3. SystemError - sys.exit( )\n",
        "###### A very rare error indicating a problem within the Python program itself, not usually your code.\n",
        "### 4. OverflowError\n",
        "###### Occurs when a number from a calculation is too big to be stored properly.\n",
        "### 5. ArthimeticError\n",
        "###### A general term for problems that happen during math calculations (like dividing by zero or having a number that's too big).\n",
        "### 6. IndexError\n",
        "###### Happens when you try to get an item from a list or similar sequence using a position that doesn't exist.\n",
        "### 7. KeyError\n",
        "###### Happens when you try to get an item from a list or similar sequence using a position that doesn't exist.\n",
        "### 8. KeyboardInterrupt\n",
        "###### Occurs when you, the user, stop the running program (usually by pressing Ctrl+C).\n",
        "### 9. StopIterationError\n",
        "###### A signal used by things that go through items one by one to indicate that they have reached the end and there are no more items.\n",
        "### 10. EnvironmentalError\n",
        "###### A problem related to the computer's system, like with files.\n",
        "### 11. IOError\n",
        "###### A problem when reading from or writing to things like files.\n",
        "### 12. NotImplementedError\n",
        "###### Means that a function or method hasn't been written yet."
      ],
      "metadata": {
        "id": "Yc2v8StPC0OB"
      }
    },
    {
      "cell_type": "code",
      "source": [
        "'''\n",
        "try:\n",
        "  stmt 1\n",
        "  stmt 2\n",
        "expect exceptioname:\n",
        "  stmt\n",
        "  '''\n"
      ],
      "metadata": {
        "id": "L-N2h98Q5DEC"
      },
      "execution_count": null,
      "outputs": []
    },
    {
      "cell_type": "markdown",
      "source": [
        "## Handle zero exception\n"
      ],
      "metadata": {
        "id": "02r4rOLUDmOo"
      }
    },
    {
      "cell_type": "code",
      "source": [
        "num1 = int(input(\"enter the numerator:\"))\n",
        "num2 = int(input(\"enter the denominator:\"))\n",
        "try:\n",
        "  quo = num1/num2\n",
        "  print(\"Quotient:\",quo)\n",
        "except ZeroDivisionError:\n",
        "  print(\"Denominator cannot be zero\")"
      ],
      "metadata": {
        "colab": {
          "base_uri": "https://localhost:8080/"
        },
        "id": "pfhLB4fXDi0J",
        "outputId": "90c88e8e-d1f9-4564-82e1-4a2369f05fcc"
      },
      "execution_count": null,
      "outputs": [
        {
          "output_type": "stream",
          "name": "stdout",
          "text": [
            "enter the numerator:31\n",
            "enter the denominator:0\n",
            "Denominator cannot be zero\n"
          ]
        }
      ]
    },
    {
      "cell_type": "markdown",
      "source": [
        "## Multiple exception blocks\n"
      ],
      "metadata": {
        "id": "pLdLP7nYErip"
      }
    },
    {
      "cell_type": "code",
      "source": [
        "try:\n",
        "  num = int(input(\"enter a number:\"))\n",
        "  print(num**3)\n",
        "except (KeyboardInterrupt):\n",
        "  print(\"enter only numeric... programming end !!!\")\n",
        "except (ValueError):\n",
        "  print(\"please enter a number\")\n",
        "\n",
        "print(\"Exit from exception block\")"
      ],
      "metadata": {
        "colab": {
          "base_uri": "https://localhost:8080/"
        },
        "id": "q6M8YlDtFE3h",
        "outputId": "1b583014-1e7c-43e1-d127-d72fe6ca5bc3"
      },
      "execution_count": null,
      "outputs": [
        {
          "output_type": "stream",
          "name": "stdout",
          "text": [
            "enter a number:31\n",
            "29791\n",
            "Exit from exception block\n"
          ]
        }
      ]
    },
    {
      "cell_type": "code",
      "source": [
        "try:\n",
        "  num = int(input(\"enter a number:\"))\n",
        "  print(num-31)\n",
        "except ( ValueError, TypeError):\n",
        "  print(\"Accessing from the blocks above\")\n",
        "print(\"End...\")"
      ],
      "metadata": {
        "colab": {
          "base_uri": "https://localhost:8080/"
        },
        "id": "NJekwZbSFb7q",
        "outputId": "cd3bb01c-7557-4353-be41-c6a9113e91f4"
      },
      "execution_count": null,
      "outputs": [
        {
          "output_type": "stream",
          "name": "stdout",
          "text": [
            "enter a number:mani\n",
            "Accessing from the blocks above\n",
            "End...\n"
          ]
        }
      ]
    }
  ]
}